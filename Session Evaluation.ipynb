{
 "cells": [
  {
   "cell_type": "markdown",
   "id": "b058c8c3-7021-4f6f-94eb-fc30c308b9b0",
   "metadata": {},
   "source": [
    "# Tutoring Session Comparison: Structured and Unstructured Approaches\n",
    "\n",
    "`This section evaluates my experiences in two AI tutoring sessions that differed in structure and communication style. The first session was unstructured, allowing the conversation to flow naturally without any predefined framework. The second session followed a structured tutoring prompt designed to guide the LLM’s responses and maintain focus.`\n",
    "\n",
    "---"
   ]
  },
  {
   "cell_type": "markdown",
   "id": "1ffc894a-eab1-46f2-954f-846298081900",
   "metadata": {},
   "source": [
    "In the unstructured session, the conversation felt relaxed and spontaneous, which made it engaging but somewhat unfocused. Since I already understood the topic, I was able to lead the discussion and ask my own questions. However, I realized that if I were learning something entirely new, I wouldn’t have known which questions to ask or how to steer the session productively. The LLM’s responses were friendly and affirming—using phrases like “that’s a great point” or “you’re exactly right”—which created a supportive tone but didn’t always deepen my understanding or guide me back to the learning goal once I became distracted.\n",
    "\n",
    "The structured session, in contrast, felt more organized and purposeful. The LLM used language that scaffolded understanding, such as “let’s think through this step by step” and “why do you think that might happen?” Its communication reflected stronger tutoring principles, encouraging reflection and focus. However, I noticed that even with the structured prompt, it struggled to redirect me to the main topic once distractions began—it acknowledged the off-task moment but didn’t actively re-engage me in the lesson. Overall, while the unstructured session emphasized autonomy and rapport, and the structured one improved clarity and guidance, both lacked effective strategies for maintaining focus and returning to the core learning objective."
   ]
  },
  {
   "cell_type": "code",
   "execution_count": null,
   "id": "0b5f4ee5-a670-4e71-829a-5fac4d691eaa",
   "metadata": {},
   "outputs": [],
   "source": []
  }
 ],
 "metadata": {
  "kernelspec": {
   "display_name": "Python 3-12 (COMM4190)",
   "language": "python",
   "name": "python3-12_comm4190"
  },
  "language_info": {
   "codemirror_mode": {
    "name": "ipython",
    "version": 3
   },
   "file_extension": ".py",
   "mimetype": "text/x-python",
   "name": "python",
   "nbconvert_exporter": "python",
   "pygments_lexer": "ipython3",
   "version": "3.12.11"
  }
 },
 "nbformat": 4,
 "nbformat_minor": 5
}
