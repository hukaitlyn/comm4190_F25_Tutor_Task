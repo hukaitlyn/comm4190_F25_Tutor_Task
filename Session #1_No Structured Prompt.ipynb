{
 "cells": [
  {
   "cell_type": "markdown",
   "id": "71e9911f-72cf-447a-8e67-94f15348b0ff",
   "metadata": {},
   "source": [
    "# Session #1: NO STRUCTURED PROMPT \n",
    "---"
   ]
  },
  {
   "cell_type": "markdown",
   "id": "ace38947-c2c8-4e73-880b-3abc695a9a3a",
   "metadata": {},
   "source": [
    "## Overview: \n",
    "\n",
    "I asked ChaptGPT-5 to teach me how to play the sport touch rugby without using a structured prompt. "
   ]
  },
  {
   "cell_type": "markdown",
   "id": "ca627998-6d86-4df1-a897-99630992e89e",
   "metadata": {},
   "source": [
    "**You said:** \n",
    "> I want you to be my tutor\n",
    "\n",
    "**ChatGPT said:**\n",
    "> Awesome — I’d love to be your tutor! 😊\n",
    "Before we get started, can you tell me a bit more about what you’d like to focus on?\n",
    "For example:\n",
    "> * a **subject area** (e.g., psychology, neuroscience, R data analysis, physics, etc.), or\n",
    "> * a **specific skill** (e.g., academic writing, touch rugby, public speaking, etc.), or\n",
    "> * a **particular goal** (e.g., prepare for an exam, learn from scratch, improve performance, etc.).\n",
    ">   \n",
    "> Once I know that, I can create a personalized tutoring plan for you — including structure, milestones, and practice activities.\n",
    "> \n",
    "> So, what topic or skill do you want me to tutor you in first?\n",
    "\n",
    "**You said:** \n",
    "> I want to learn how to play touch rugby.\n",
    "\n",
    "**ChatGPT said:**\n",
    "> Perfect — that’s a great choice! 🏉 Touch rugby is fast, fun, and really strategic. Let’s set you up for success.\n",
    "> \n",
    "> Here’s how I’ll structure your tutoring plan so you can steadily build skill and confidence:\n",
    "\n",
    "> ### 🏁 **Stage 1: Foundation (Rules, Scoring & Movement)**\n",
    ">\n",
    "> We’ll start with:\n",
    ">\n",
    "> * The **basic rules** of touch rugby (how play starts, how to score, what “six touches” means).\n",
    "> * **Field layout** and positions (middles, links, and wings).\n",
    "> * **Ball-handling fundamentals:** how to pass backward, catch cleanly, and maintain flow.\n",
    "> * Simple footwork drills for movement and agility.\n",
    "\n",
    "> ### ⚙️ **Stage 2: Team Play & Strategy**\n",
    ">\n",
    "> Next, we’ll cover:\n",
    ">\n",
    "> * **Attacking patterns:** quick rolls, switches, wraps, and sweeps.\n",
    "> * **Defensive structure:** maintaining a flat line, communication, and reading play.\n",
    "> * Transition drills to improve reaction speed and awareness.\n",
    "\n",
    "> ### 💪 **Stage 3: Game Awareness & Fitness**\n",
    ">\n",
    "> Once you’re confident with the basics:\n",
    ">\n",
    "> * Decision-making under pressure — when to pass, when to run, and when to reset.\n",
    "> * **Set plays and ruck speed.**\n",
    "> * Conditioning routines specific to touch rugby (short sprints, lateral movement, endurance).\n",
    "\n",
    "> ### 🎯 **Stage 4: Improving Your Game**\n",
    ">\n",
    "> We’ll focus on:\n",
    ">\n",
    "> * Common mistakes and how to fix them.\n",
    "> * Position-specific tips (e.g., how wings can exploit space or how middles control defense).\n",
    "> * Video analysis (I can walk you through plays if you share clips).\n",
    "> * Match mindset and teamwork communication.\n",
    "\n",
    "> Before we start **Lesson 1**, can you tell me:\n",
    "> \n",
    "> 1. Your **current experience level** — have you played before, or are you completely new?\n",
    "> 2. Do you want to focus more on **casual play**, **competitive club-level**, or **school/university-level** touch rugby?\n",
    "> 3. Do you have access to a **team or training space**, or will you mostly be practicing solo?\n",
    ">\n",
    "> Once you answer, I’ll start you on **Lesson 1: The Basics of Touch Rugby — Rules, Positions & Movement.**\n"
   ]
  }
 ],
 "metadata": {
  "kernelspec": {
   "display_name": "Python 3-12 (COMM4190)",
   "language": "python",
   "name": "python3-12_comm4190"
  },
  "language_info": {
   "codemirror_mode": {
    "name": "ipython",
    "version": 3
   },
   "file_extension": ".py",
   "mimetype": "text/x-python",
   "name": "python",
   "nbconvert_exporter": "python",
   "pygments_lexer": "ipython3",
   "version": "3.12.11"
  }
 },
 "nbformat": 4,
 "nbformat_minor": 5
}
